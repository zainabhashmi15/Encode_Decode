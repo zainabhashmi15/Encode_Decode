{
 "cells": [
  {
   "cell_type": "markdown",
   "id": "0ee9672a",
   "metadata": {},
   "source": [
    "Write python functions of your own, which encodes & decodes a string encoding logic - Every alphabet in the string is replaced by the next alphabet in the alphabetical order, decoding logic – get back to original string codes"
   ]
  },
  {
   "cell_type": "code",
   "execution_count": 2,
   "id": "e2d068c4",
   "metadata": {},
   "outputs": [
    {
     "name": "stdout",
     "output_type": "stream",
     "text": [
      "Original:  The quick brown fox jumps over the lazy dog.\n",
      "Encoded:   Uif rvjdl cspxo gpy kvnqt pwfs uif mbaz eph.\n",
      "Decoded:   The quick brown fox jumps over the lazy dog.\n"
     ]
    }
   ],
   "source": [
    "def encode_string(s):\n",
    "    \"\"\"\n",
    "    Encodes a string by shifting each letter in the alphabet by one position.\n",
    "    For example, 'abc' becomes 'bcd', 'xyz' becomes 'yza', etc.\n",
    "    Non-alphabetic characters are left unchanged.\n",
    "\n",
    "    s: str, the string to be encoded.\n",
    "    returns: str, the encoded string.\n",
    "    \"\"\"\n",
    "    encoded = \"\"\n",
    "    for char in s:\n",
    "        if char.isalpha():\n",
    "            if char.isupper():\n",
    "                encoded += chr((ord(char) - 64) % 26 + 65)\n",
    "            else:\n",
    "                encoded += chr((ord(char) - 96) % 26 + 97)\n",
    "        else:\n",
    "            encoded += char\n",
    "    return encoded\n",
    "\n",
    "\n",
    "def decode_string(s):\n",
    "    \"\"\"\n",
    "    Decodes an encoded string by shifting each letter in the alphabet back by one position.\n",
    "    For example, 'bcd' becomes 'abc', 'yza' becomes 'xyz', etc.\n",
    "    Non-alphabetic characters are left unchanged.\n",
    "\n",
    "    s: str, the encoded string to be decoded.\n",
    "    returns: str, the original string.\n",
    "    \"\"\"\n",
    "    decoded = \"\"\n",
    "    for char in s:\n",
    "        if char.isalpha():\n",
    "            if char.isupper():\n",
    "                decoded += chr((ord(char) - 65 - 1) % 26 + 65)\n",
    "            else:\n",
    "                decoded += chr((ord(char) - 97 - 1) % 26 + 97)\n",
    "        else:\n",
    "            decoded += char\n",
    "    return decoded\n",
    "\n",
    "\n",
    "\n",
    "original = \"The quick brown fox jumps over the lazy dog.\"\n",
    "encoded = encode_string(original)\n",
    "decoded = decode_string(encoded)\n",
    "\n",
    "print(\"Original: \", original)\n",
    "print(\"Encoded:  \", encoded)\n",
    "print(\"Decoded:  \", decoded)\n"
   ]
  },
  {
   "cell_type": "code",
   "execution_count": null,
   "id": "a60090eb",
   "metadata": {},
   "outputs": [],
   "source": []
  }
 ],
 "metadata": {
  "kernelspec": {
   "display_name": "Python 3 (ipykernel)",
   "language": "python",
   "name": "python3"
  },
  "language_info": {
   "codemirror_mode": {
    "name": "ipython",
    "version": 3
   },
   "file_extension": ".py",
   "mimetype": "text/x-python",
   "name": "python",
   "nbconvert_exporter": "python",
   "pygments_lexer": "ipython3",
   "version": "3.9.13"
  }
 },
 "nbformat": 4,
 "nbformat_minor": 5
}
